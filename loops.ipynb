{
 "cells": [
  {
   "cell_type": "code",
   "execution_count": 1,
   "id": "35e9af67-9d54-4356-a484-5f7ce7b26fb3",
   "metadata": {},
   "outputs": [
    {
     "name": "stdout",
     "output_type": "stream",
     "text": [
      "Bright IT Career\n",
      "Bright IT Career\n",
      "Bright IT Career\n",
      "Bright IT Career\n",
      "Bright IT Career\n",
      "Bright IT Career\n",
      "Bright IT Career\n",
      "Bright IT Career\n",
      "Bright IT Career\n",
      "Bright IT Career\n"
     ]
    }
   ],
   "source": [
    "for i in range(1,11):\n",
    "    print(\"Bright IT Career\")"
   ]
  },
  {
   "cell_type": "code",
   "execution_count": 3,
   "id": "1eed22c5-6f13-46a4-807f-f640d396a693",
   "metadata": {},
   "outputs": [
    {
     "name": "stdout",
     "output_type": "stream",
     "text": [
      "1\n",
      "2\n",
      "3\n",
      "4\n",
      "5\n",
      "6\n",
      "7\n",
      "8\n",
      "9\n",
      "10\n",
      "11\n",
      "12\n",
      "13\n",
      "14\n",
      "15\n",
      "16\n",
      "17\n",
      "18\n",
      "19\n",
      "20\n"
     ]
    }
   ],
   "source": [
    "i=1\n",
    "while(i<21):\n",
    "    print(i)\n",
    "    i=i+1"
   ]
  },
  {
   "cell_type": "code",
   "execution_count": 3,
   "id": "6de60051-fbd3-46a4-9163-83fe86dd84a6",
   "metadata": {},
   "outputs": [
    {
     "name": "stdin",
     "output_type": "stream",
     "text": [
      " 3\n",
      " 5\n"
     ]
    },
    {
     "name": "stdout",
     "output_type": "stream",
     "text": [
      "3 is not equal to 5\n",
      "3 is not equal to 5\n"
     ]
    }
   ],
   "source": [
    "a = int(input())\n",
    "b = int(input())\n",
    "if a == b:\n",
    "    print(f\"{a} is equal to {b}\")\n",
    "else:\n",
    "    print(f\"{a} is not equal to {b}\")\n",
    "if a != b:\n",
    "    print(f\"{a} is not equal to {b}\")\n",
    "else:\n",
    "    print(f\"{a} is equal to {b}\")\n"
   ]
  },
  {
   "cell_type": "code",
   "execution_count": 5,
   "id": "eea24d02-5fe5-495a-900f-6484c99345cf",
   "metadata": {},
   "outputs": [
    {
     "name": "stdin",
     "output_type": "stream",
     "text": [
      " 5\n"
     ]
    },
    {
     "name": "stdout",
     "output_type": "stream",
     "text": [
      "Odd\n"
     ]
    }
   ],
   "source": [
    "n=int(input())\n",
    "if(n%2==0):\n",
    "    print(\"Even\")\n",
    "else:\n",
    "    print(\"Odd\")"
   ]
  },
  {
   "cell_type": "code",
   "execution_count": 8,
   "id": "8b638903-7b4c-4487-b2a7-875116b62a47",
   "metadata": {},
   "outputs": [
    {
     "name": "stdin",
     "output_type": "stream",
     "text": [
      " 5\n",
      " 10\n",
      " 1\n"
     ]
    },
    {
     "name": "stdout",
     "output_type": "stream",
     "text": [
      "10 is bigger\n"
     ]
    }
   ],
   "source": [
    "a=int(input())\n",
    "b=int(input())\n",
    "c=int(input())\n",
    "if (a>b and a>c):\n",
    "    print(a,\"is bigger\")\n",
    "elif(b>c):\n",
    "    print(b,\"is bigger\")\n",
    "else:\n",
    "    print(c,\"is bigger\")"
   ]
  },
  {
   "cell_type": "code",
   "execution_count": 1,
   "id": "26fbc7e3-45de-443f-85af-7259639d58eb",
   "metadata": {},
   "outputs": [
    {
     "name": "stdout",
     "output_type": "stream",
     "text": [
      "10\n",
      "12\n",
      "14\n",
      "16\n",
      "18\n",
      "20\n"
     ]
    }
   ],
   "source": [
    "i=10\n",
    "while(i<21):\n",
    "    if(i%2==0):\n",
    "        print(i)\n",
    "    i=i+1"
   ]
  },
  {
   "cell_type": "code",
   "execution_count": 2,
   "id": "008cefde-621a-477a-b853-7f67f27c6bb6",
   "metadata": {},
   "outputs": [
    {
     "name": "stdout",
     "output_type": "stream",
     "text": [
      "1\n",
      "2\n",
      "3\n",
      "4\n",
      "5\n",
      "6\n",
      "7\n",
      "8\n",
      "9\n",
      "10\n"
     ]
    }
   ],
   "source": [
    "i = 1\n",
    "while True:\n",
    "    print(i)\n",
    "    i += 1\n",
    "    if i > 10:\n",
    "        break"
   ]
  },
  {
   "cell_type": "code",
   "execution_count": 7,
   "id": "6c12ffc1-d669-449d-b2c3-23db78fdaab5",
   "metadata": {},
   "outputs": [
    {
     "name": "stdin",
     "output_type": "stream",
     "text": [
      " 153\n"
     ]
    },
    {
     "name": "stdout",
     "output_type": "stream",
     "text": [
      "Armstrong Number\n"
     ]
    }
   ],
   "source": [
    "n=int(input())\n",
    "m=n\n",
    "s=0\n",
    "while n>0:\n",
    "    r=n%10\n",
    "    s=s+(r*r*r)\n",
    "    n=n//10\n",
    "if m==s:\n",
    "    print(\"Armstrong Number\")\n",
    "else:\n",
    "    print(\"Not Armstrong Number\")\n",
    "    \n",
    "    "
   ]
  },
  {
   "cell_type": "code",
   "execution_count": 13,
   "id": "f5f7dfaa-6ffe-43a3-a97d-dfb97af2f02e",
   "metadata": {},
   "outputs": [
    {
     "name": "stdin",
     "output_type": "stream",
     "text": [
      " 5\n"
     ]
    },
    {
     "name": "stdout",
     "output_type": "stream",
     "text": [
      "5 is a prime number\n"
     ]
    }
   ],
   "source": [
    "n=int(input())\n",
    "c=0\n",
    "for i in range(1,n+1):\n",
    "    if(n%i==0):\n",
    "        c=c+1\n",
    "if c==2:\n",
    "    print(n,\"is a prime number\")\n",
    "else:\n",
    "    print(n,\"is not a prime number\")"
   ]
  },
  {
   "cell_type": "code",
   "execution_count": 1,
   "id": "514924c6-e42c-4e21-b02e-c8616c1a1fa0",
   "metadata": {},
   "outputs": [
    {
     "name": "stdin",
     "output_type": "stream",
     "text": [
      " 121\n"
     ]
    },
    {
     "name": "stdout",
     "output_type": "stream",
     "text": [
      "Palindrome Number\n"
     ]
    }
   ],
   "source": [
    "n = int(input())\n",
    "m = n\n",
    "s = 0\n",
    "while n > 0:\n",
    "    r = n % 10 \n",
    "    s = s * 10 + r \n",
    "    n = n // 10 \n",
    "if m == s:\n",
    "    print(\"Palindrome Number\")\n",
    "else:\n",
    "    print(\"Not Palindrome Number\")\n"
   ]
  },
  {
   "cell_type": "code",
   "execution_count": 4,
   "id": "41836675-e0dd-401b-acd1-54249b1f55a4",
   "metadata": {},
   "outputs": [
    {
     "name": "stdin",
     "output_type": "stream",
     "text": [
      "Enter a number:  4\n"
     ]
    },
    {
     "name": "stdout",
     "output_type": "stream",
     "text": [
      "The number 4 is Even.\n"
     ]
    }
   ],
   "source": [
    "num = int(input(\"Enter a number: \"))\n",
    "switch = {\n",
    "    0: \"Even\",\n",
    "    1: \"Odd\"\n",
    "}\n",
    "result = switch.get(num % 2, \"Invalid input\")\n",
    "print(f\"The number {num} is {result}.\")\n"
   ]
  },
  {
   "cell_type": "code",
   "execution_count": 5,
   "id": "b3d50b3b-6f79-4513-9f0b-039357dbf343",
   "metadata": {},
   "outputs": [
    {
     "name": "stdin",
     "output_type": "stream",
     "text": [
      "Enter gender (M for Male, F for Female):  m\n"
     ]
    },
    {
     "name": "stdout",
     "output_type": "stream",
     "text": [
      "The gender is: Male\n"
     ]
    }
   ],
   "source": [
    "# \n",
    "gender_code = input(\"Enter gender (M for Male, F for Female): \").strip().upper()\n",
    "gender_switch = {\n",
    "    'M': \"Male\",\n",
    "    'F': \"Female\"\n",
    "}\n",
    "gender = gender_switch.get(gender_code, \"Invalid input\")\n",
    "print(f\"The gender is: {gender}\")\n"
   ]
  },
  {
   "cell_type": "code",
   "execution_count": null,
   "id": "19c16167-2555-4381-a7c2-d9bfe412f569",
   "metadata": {},
   "outputs": [],
   "source": []
  }
 ],
 "metadata": {
  "kernelspec": {
   "display_name": "Python 3 (ipykernel)",
   "language": "python",
   "name": "python3"
  },
  "language_info": {
   "codemirror_mode": {
    "name": "ipython",
    "version": 3
   },
   "file_extension": ".py",
   "mimetype": "text/x-python",
   "name": "python",
   "nbconvert_exporter": "python",
   "pygments_lexer": "ipython3",
   "version": "3.12.4"
  }
 },
 "nbformat": 4,
 "nbformat_minor": 5
}
