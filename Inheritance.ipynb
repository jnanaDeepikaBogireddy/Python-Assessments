{
 "cells": [
  {
   "cell_type": "code",
   "execution_count": 1,
   "id": "78016deb-a74e-4303-a07a-efc297a18516",
   "metadata": {},
   "outputs": [
    {
     "name": "stdout",
     "output_type": "stream",
     "text": [
      "Initializing Class A\n",
      "Initializing Class B\n",
      "Initializing Class C\n",
      "Method in Class A\n",
      "Method in Class B\n",
      "Method in Class C\n"
     ]
    }
   ],
   "source": [
    "class A:\n",
    "    def __init__(self):\n",
    "        print(\"Initializing Class A\")\n",
    "    \n",
    "    def method_a(self):\n",
    "        print(\"Method in Class A\")\n",
    "\n",
    "class B(A):\n",
    "    def __init__(self):\n",
    "        super().__init__()\n",
    "        print(\"Initializing Class B\")\n",
    "    \n",
    "    def method_b(self):\n",
    "        print(\"Method in Class B\")\n",
    "\n",
    "class C(B):\n",
    "    def __init__(self):\n",
    "        super().__init__()\n",
    "        print(\"Initializing Class C\")\n",
    "    \n",
    "    def method_c(self):\n",
    "        print(\"Method in Class C\")\n",
    "\n",
    "# Creating an instance of Class C\n",
    "obj = C()\n",
    "obj.method_a()\n",
    "obj.method_b()\n",
    "obj.method_c()"
   ]
  },
  {
   "cell_type": "code",
   "execution_count": 3,
   "id": "a880db12-7ebe-4f17-a826-362ee193a7cb",
   "metadata": {},
   "outputs": [
    {
     "name": "stdout",
     "output_type": "stream",
     "text": [
      "Method A\n",
      "Method B\n",
      "Method C\n",
      "Overridden Method in Class C\n"
     ]
    }
   ],
   "source": [
    "class A:\n",
    "    def common_method(self): print(\"Overridden Method in Class A\")\n",
    "    def method_a(self): print(\"Method A\")\n",
    "    def method_x(self): print(\"Method X\")\n",
    "\n",
    "class B(A):\n",
    "    def common_method(self): print(\"Overridden Method in Class B\")\n",
    "    def method_b(self): print(\"Method B\")\n",
    "    def method_y(self): print(\"Method Y\")\n",
    "\n",
    "class C(B):\n",
    "    def common_method(self): print(\"Overridden Method in Class C\")\n",
    "    def method_c(self): print(\"Method C\")\n",
    "    def method_z(self): print(\"Method Z\")\n",
    "\n",
    "obj = C()\n",
    "obj.method_a()\n",
    "obj.method_b()\n",
    "obj.method_c()\n",
    "obj.common_method()\n"
   ]
  },
  {
   "cell_type": "code",
   "execution_count": 4,
   "id": "2affc8e1-f133-45ae-9e48-8241bac8ba5d",
   "metadata": {},
   "outputs": [
    {
     "name": "stdout",
     "output_type": "stream",
     "text": [
      "Overridden in A\n",
      "Method A\n",
      "Overridden in B\n",
      "Method A\n",
      "Method B\n",
      "Overridden in C\n",
      "Method A\n",
      "Method B\n",
      "Method C\n"
     ]
    }
   ],
   "source": [
    "class A:\n",
    "    def common_method(self): print(\"Overridden in A\")\n",
    "    def method_a(self): print(\"Method A\")\n",
    "\n",
    "class B(A):\n",
    "    def common_method(self): print(\"Overridden in B\")\n",
    "    def method_b(self): print(\"Method B\")\n",
    "\n",
    "class C(B):\n",
    "    def common_method(self): print(\"Overridden in C\")\n",
    "    def method_c(self): print(\"Method C\")\n",
    "\n",
    "if __name__ == \"__main__\":\n",
    "    for obj in (A(), B(), C()):\n",
    "        obj.common_method()\n",
    "        if hasattr(obj, 'method_a'): obj.method_a()\n",
    "        if hasattr(obj, 'method_b'): obj.method_b()\n",
    "        if hasattr(obj, 'method_c'): obj.method_c()"
   ]
  },
  {
   "cell_type": "code",
   "execution_count": 5,
   "id": "ce569ed4-7def-42ed-a862-39a3279c6315",
   "metadata": {},
   "outputs": [
    {
     "name": "stdout",
     "output_type": "stream",
     "text": [
      "Overridden in B\n",
      "Overridden in C\n"
     ]
    }
   ],
   "source": [
    "class A:\n",
    "    def common_method(self): print(\"Overridden in A\")\n",
    "\n",
    "class B(A):\n",
    "    def common_method(self): print(\"Overridden in B\")\n",
    "\n",
    "class C(A):\n",
    "    def common_method(self): print(\"Overridden in C\")\n",
    "\n",
    "if __name__ == \"__main__\":\n",
    "    obj_b, obj_c = A(), A()\n",
    "    obj_b = B()\n",
    "    obj_c = C()\n",
    "    obj_b.common_method()\n",
    "    obj_c.common_method()\n"
   ]
  },
  {
   "cell_type": "code",
   "execution_count": 6,
   "id": "5f18425f-36b9-47fe-a318-3c0a8e0e30ca",
   "metadata": {},
   "outputs": [
    {
     "name": "stdout",
     "output_type": "stream",
     "text": [
      "Value in B\n",
      "Value in C\n"
     ]
    }
   ],
   "source": [
    "class A:\n",
    "    def __init__(self): self.value = \"Value in A\"\n",
    "\n",
    "class B(A):\n",
    "    def __init__(self): super().__init__(); self.value = \"Value in B\"\n",
    "\n",
    "class C(A):\n",
    "    def __init__(self): super().__init__(); self.value = \"Value in C\"\n",
    "\n",
    "if __name__ == \"__main__\":\n",
    "    obj_b, obj_c = A(), A()\n",
    "    obj_b = B()\n",
    "    obj_c = C()\n",
    "    print(obj_b.value)\n",
    "    print(obj_c.value)\n"
   ]
  },
  {
   "cell_type": "code",
   "execution_count": null,
   "id": "2aaacdb7-59bd-488f-b09d-8342a1d191d3",
   "metadata": {},
   "outputs": [],
   "source": []
  }
 ],
 "metadata": {
  "kernelspec": {
   "display_name": "Python 3 (ipykernel)",
   "language": "python",
   "name": "python3"
  },
  "language_info": {
   "codemirror_mode": {
    "name": "ipython",
    "version": 3
   },
   "file_extension": ".py",
   "mimetype": "text/x-python",
   "name": "python",
   "nbconvert_exporter": "python",
   "pygments_lexer": "ipython3",
   "version": "3.12.4"
  }
 },
 "nbformat": 4,
 "nbformat_minor": 5
}
