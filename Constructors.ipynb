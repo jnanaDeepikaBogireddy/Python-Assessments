{
 "cells": [
  {
   "cell_type": "code",
   "execution_count": 2,
   "id": "a2037242-63ed-4abf-8dc3-74e9aebaf38f",
   "metadata": {},
   "outputs": [
    {
     "name": "stdout",
     "output_type": "stream",
     "text": [
      "Default Constructor Called\n",
      "One Argument Constructor Called: 10\n",
      "Two Argument Constructor Called: 10, 20\n"
     ]
    }
   ],
   "source": [
    "class MyClass:\n",
    "    def __init__(self, arg1=None, arg2=None):\n",
    "        if arg1 is None and arg2 is None:\n",
    "            print(\"Default Constructor Called\")\n",
    "        elif arg2 is None:\n",
    "            print(f\"One Argument Constructor Called: {arg1}\")\n",
    "        else:\n",
    "            print(f\"Two Argument Constructor Called: {arg1}, {arg2}\")\n",
    "obj1 = MyClass()           \n",
    "obj2 = MyClass(10)         \n",
    "obj3 = MyClass(10, 20)"
   ]
  },
  {
   "cell_type": "code",
   "execution_count": 3,
   "id": "2b3b9c2d-cea6-4e3d-b256-65a7bbabdb12",
   "metadata": {},
   "outputs": [
    {
     "name": "stdout",
     "output_type": "stream",
     "text": [
      "Parent Default Constructor Called\n",
      "Child Constructor Called\n",
      "Parent Argument Constructor Called: 10\n",
      "Child Constructor Called\n"
     ]
    }
   ],
   "source": [
    "class Parent:\n",
    "    def __init__(self, arg1=None):\n",
    "        if arg1 is None:\n",
    "            print(\"Parent Default Constructor Called\")\n",
    "        else:\n",
    "            print(f\"Parent Argument Constructor Called: {arg1}\")\n",
    "\n",
    "class Child(Parent):\n",
    "    def __init__(self, arg1=None):\n",
    "        super().__init__(arg1)  \n",
    "        print(\"Child Constructor Called\")\n",
    "\n",
    "\n",
    "obj1 = Child()     \n",
    "obj2 = Child(10)  \n"
   ]
  },
  {
   "cell_type": "code",
   "execution_count": 5,
   "id": "440abd86-5c49-491a-b804-455344889689",
   "metadata": {},
   "outputs": [
    {
     "name": "stdout",
     "output_type": "stream",
     "text": [
      "Public Constructor Called\n",
      "Protected Constructor Called\n",
      "Private Constructor Not Accessible\n"
     ]
    }
   ],
   "source": [
    "class Example:\n",
    "    def __init__(self): \n",
    "        print(\"Public Constructor Called\")\n",
    "\n",
    "    def _protected_constructor(self):  \n",
    "        print(\"Protected Constructor Called\")\n",
    "\n",
    "    def __private_constructor(self):  \n",
    "        print(\"Private Constructor Called\")\n",
    "\n",
    "obj = Example()  \n",
    "\n",
    "\n",
    "obj._protected_constructor()\n",
    "\n",
    "try:\n",
    "    obj.__private_constructor()\n",
    "except AttributeError:\n",
    "    print(\"Private Constructor Not Accessible\")"
   ]
  },
  {
   "cell_type": "code",
   "execution_count": 8,
   "id": "35731b0d-7314-4387-bf6d-69ecabf1a689",
   "metadata": {},
   "outputs": [
    {
     "name": "stdout",
     "output_type": "stream",
     "text": [
      "Constructor Called\n",
      "Name: Alice, Age: 10\n"
     ]
    }
   ],
   "source": [
    "class Person:\n",
    "    def __init__(self, name, age):  \n",
    "        self.name = name  \n",
    "        self.age = age    \n",
    "        print(\"Constructor Called\")\n",
    "\n",
    "    def display(self):  \n",
    "        print(f\"Name: {self.name}, Age: {self.age}\")\n",
    "p1 = Person(\"Alice\", 10)\n",
    "p1.display()"
   ]
  },
  {
   "cell_type": "code",
   "execution_count": null,
   "id": "6be0916e-2c93-4798-bf34-28427d2973dc",
   "metadata": {},
   "outputs": [],
   "source": []
  }
 ],
 "metadata": {
  "kernelspec": {
   "display_name": "Python 3 (ipykernel)",
   "language": "python",
   "name": "python3"
  },
  "language_info": {
   "codemirror_mode": {
    "name": "ipython",
    "version": 3
   },
   "file_extension": ".py",
   "mimetype": "text/x-python",
   "name": "python",
   "nbconvert_exporter": "python",
   "pygments_lexer": "ipython3",
   "version": "3.12.4"
  }
 },
 "nbformat": 4,
 "nbformat_minor": 5
}
