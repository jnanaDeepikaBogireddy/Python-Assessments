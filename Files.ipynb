{
 "cells": [
  {
   "cell_type": "code",
   "execution_count": 7,
   "id": "391d4501-0b52-40ab-a7cd-9f088677f8d3",
   "metadata": {},
   "outputs": [
    {
     "name": "stdout",
     "output_type": "stream",
     "text": [
      "File written successfully.\n"
     ]
    }
   ],
   "source": [
    "import io\n",
    "input_stream = io.StringIO(\"Hello, this is a test message.\")\n",
    "with open(\"output.txt\", \"w\", encoding=\"utf-8\") as file:\n",
    "    file.write(input_stream.read())  \n",
    "input_stream.close()\n",
    "print(\"File written successfully.\")"
   ]
  },
  {
   "cell_type": "code",
   "execution_count": 8,
   "id": "31880884-89fe-432d-bac3-2a2da0fac08e",
   "metadata": {},
   "outputs": [
    {
     "name": "stdout",
     "output_type": "stream",
     "text": [
      "File Content:\n",
      "Hello, this is a test message.\n"
     ]
    }
   ],
   "source": [
    "with open(\"output.txt\", \"r\", encoding=\"utf-8\") as file:\n",
    "    content = file.read()\n",
    "print(\"File Content:\")\n",
    "print(content)"
   ]
  },
  {
   "cell_type": "code",
   "execution_count": 9,
   "id": "c6ea1bd0-2079-47b5-b9fb-d452fff51e59",
   "metadata": {},
   "outputs": [
    {
     "name": "stdout",
     "output_type": "stream",
     "text": [
      "Hello, this is a test message.\n"
     ]
    }
   ],
   "source": [
    "with open(\"output.txt\", \"r\") as file:\n",
    "    print(file.read())"
   ]
  },
  {
   "cell_type": "code",
   "execution_count": 10,
   "id": "aab1cd62-9dc0-4e55-ad79-c3e0fd97747c",
   "metadata": {},
   "outputs": [
    {
     "name": "stdout",
     "output_type": "stream",
     "text": [
      "this is a test message.\n"
     ]
    }
   ],
   "source": [
    "with open(\"output.txt\", \"r\") as file:\n",
    "    file.seek(7)  \n",
    "    print(file.read()) \n"
   ]
  },
  {
   "cell_type": "code",
   "execution_count": 11,
   "id": "dc10d208-787b-400b-bb9b-a3287cd83fe8",
   "metadata": {},
   "outputs": [
    {
     "name": "stdout",
     "output_type": "stream",
     "text": [
      "s is a test message.\n"
     ]
    }
   ],
   "source": [
    "with open(\"output.txt\", \"r\") as file:\n",
    "    file.seek(10)  \n",
    "    print(file.read())  \n"
   ]
  },
  {
   "cell_type": "code",
   "execution_count": 12,
   "id": "b80317da-5d81-4cf1-bd95-e3924658ceed",
   "metadata": {},
   "outputs": [
    {
     "name": "stdout",
     "output_type": "stream",
     "text": [
      "Read Access: True\n",
      "Write Access: True\n"
     ]
    }
   ],
   "source": [
    "import os\n",
    "\n",
    "file = \"output.txt\"\n",
    "\n",
    "print(\"Read Access:\", os.access(file, os.R_OK))\n",
    "print(\"Write Access:\", os.access(file, os.W_OK))"
   ]
  },
  {
   "cell_type": "code",
   "execution_count": null,
   "id": "9467b97c-0ce2-4215-a11e-df1844222858",
   "metadata": {},
   "outputs": [],
   "source": []
  }
 ],
 "metadata": {
  "kernelspec": {
   "display_name": "Python 3 (ipykernel)",
   "language": "python",
   "name": "python3"
  },
  "language_info": {
   "codemirror_mode": {
    "name": "ipython",
    "version": 3
   },
   "file_extension": ".py",
   "mimetype": "text/x-python",
   "name": "python",
   "nbconvert_exporter": "python",
   "pygments_lexer": "ipython3",
   "version": "3.12.4"
  }
 },
 "nbformat": 4,
 "nbformat_minor": 5
}
