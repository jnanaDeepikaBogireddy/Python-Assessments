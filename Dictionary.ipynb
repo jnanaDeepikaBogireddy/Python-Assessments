{
 "cells": [
  {
   "cell_type": "code",
   "execution_count": 9,
   "id": "faefdc16-9c8e-473e-a01b-68725cfcacd4",
   "metadata": {},
   "outputs": [
    {
     "name": "stdout",
     "output_type": "stream",
     "text": [
      "Initial Dictionary: {101: 'deepika', 102: 'jhansi', 103: 'navya', 104: 'maha', 105: 'devi'}\n"
     ]
    }
   ],
   "source": [
    "students = {\n",
    "    101: \"deepika\",\n",
    "    102: \"jhansi\",\n",
    "    103: \"navya\",\n",
    "    104: \"maha\",\n",
    "    105: \"devi\"\n",
    "}\n",
    "print(\"Initial Dictionary:\", students)"
   ]
  },
  {
   "cell_type": "code",
   "execution_count": 10,
   "id": "ec5328d6-bddc-4e03-9f99-cc8e6cf38569",
   "metadata": {},
   "outputs": [
    {
     "name": "stdout",
     "output_type": "stream",
     "text": [
      "After Adding: {101: 'deepika', 102: 'jhansi', 103: 'navya', 104: 'maha', 105: 'devi', 106: 'durga'}\n"
     ]
    }
   ],
   "source": [
    "students[106] = \"durga\"\n",
    "print(\"After Adding:\", students)"
   ]
  },
  {
   "cell_type": "code",
   "execution_count": 11,
   "id": "7e9e9d6e-740b-4fde-a53d-57c2485e9ba2",
   "metadata": {},
   "outputs": [
    {
     "name": "stdout",
     "output_type": "stream",
     "text": [
      "After Updating: {101: 'deepika', 102: 'jhansi', 103: 'pooja', 104: 'maha', 105: 'devi', 106: 'durga'}\n"
     ]
    }
   ],
   "source": [
    "students[103] = \"pooja\"\n",
    "print(\"After Updating:\", students)"
   ]
  },
  {
   "cell_type": "code",
   "execution_count": 12,
   "id": "8bb965a0-8888-4180-b0ef-b54efb7dee44",
   "metadata": {},
   "outputs": [
    {
     "name": "stdout",
     "output_type": "stream",
     "text": [
      "Student with ID 105: maha\n"
     ]
    }
   ],
   "source": [
    "print(\"Student with ID 105:\", students[104])"
   ]
  },
  {
   "cell_type": "code",
   "execution_count": 13,
   "id": "31e08db8-3cd9-46d1-8f8d-2f2503f9785d",
   "metadata": {},
   "outputs": [
    {
     "name": "stdout",
     "output_type": "stream",
     "text": [
      "Nested Dictionary: {101: {'Name': 'deepika', 'Age': 20, 'Grade': 'A'}, 102: {'Name': 'jhasi', 'Age': 21, 'Grade': 'B'}, 103: {'Name': 'pooja', 'Age': 22, 'Grade': 'C'}}\n"
     ]
    }
   ],
   "source": [
    "nested_students = {\n",
    "    101: {\"Name\": \"deepika\", \"Age\": 20, \"Grade\": \"A\"},\n",
    "    102: {\"Name\": \"jhasi\", \"Age\": 21, \"Grade\": \"B\"},\n",
    "    103: {\"Name\": \"pooja\", \"Age\": 22, \"Grade\": \"C\"},\n",
    "}\n",
    "print(\"Nested Dictionary:\", nested_students)"
   ]
  },
  {
   "cell_type": "code",
   "execution_count": 14,
   "id": "644951f8-0f2b-4246-ac2a-d35b73999693",
   "metadata": {},
   "outputs": [
    {
     "name": "stdout",
     "output_type": "stream",
     "text": [
      "Name of student 101: deepika\n",
      "Age of student 102: 21\n"
     ]
    }
   ],
   "source": [
    "print(\"Name of student 101:\", nested_students[101][\"Name\"])\n",
    "print(\"Age of student 102:\", nested_students[102][\"Age\"])"
   ]
  },
  {
   "cell_type": "code",
   "execution_count": 15,
   "id": "afbc006c-403d-4915-9749-2827b5ca7b9e",
   "metadata": {},
   "outputs": [
    {
     "name": "stdout",
     "output_type": "stream",
     "text": [
      "Keys in Dictionary: dict_keys([101, 102, 103, 104, 105, 106])\n"
     ]
    }
   ],
   "source": [
    "print(\"Keys in Dictionary:\", students.keys())"
   ]
  },
  {
   "cell_type": "code",
   "execution_count": 16,
   "id": "978f3eee-951a-40ff-b282-08863b90225c",
   "metadata": {},
   "outputs": [
    {
     "name": "stdout",
     "output_type": "stream",
     "text": [
      "After Deleting Student 102: {101: 'deepika', 103: 'pooja', 104: 'maha', 105: 'devi', 106: 'durga'}\n"
     ]
    }
   ],
   "source": [
    "del students[102]\n",
    "print(\"After Deleting Student 102:\", students)"
   ]
  },
  {
   "cell_type": "code",
   "execution_count": null,
   "id": "fff0df0f-86f9-423c-a013-ee8d01e24739",
   "metadata": {},
   "outputs": [],
   "source": []
  }
 ],
 "metadata": {
  "kernelspec": {
   "display_name": "Python 3 (ipykernel)",
   "language": "python",
   "name": "python3"
  },
  "language_info": {
   "codemirror_mode": {
    "name": "ipython",
    "version": 3
   },
   "file_extension": ".py",
   "mimetype": "text/x-python",
   "name": "python",
   "nbconvert_exporter": "python",
   "pygments_lexer": "ipython3",
   "version": "3.12.4"
  }
 },
 "nbformat": 4,
 "nbformat_minor": 5
}
