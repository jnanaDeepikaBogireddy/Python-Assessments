{
 "cells": [
  {
   "cell_type": "code",
   "execution_count": 4,
   "id": "86f66d96-3885-40bb-965f-344f86ae43f1",
   "metadata": {},
   "outputs": [
    {
     "name": "stdout",
     "output_type": "stream",
     "text": [
      "Accessing static variable through class: 50\n"
     ]
    }
   ],
   "source": [
    "class MyClass:\n",
    "    static_var = 50\n",
    "print(\"Accessing static variable through class:\", MyClass.static_var)"
   ]
  },
  {
   "cell_type": "code",
   "execution_count": 5,
   "id": "aa9166db-738f-41e6-b9cf-7cf94626507b",
   "metadata": {},
   "outputs": [
    {
     "name": "stdout",
     "output_type": "stream",
     "text": [
      "Accessing static variable through instance: 67\n"
     ]
    }
   ],
   "source": [
    "class MyClass:\n",
    "    static_var = 67\n",
    "obj = MyClass()\n",
    "print(\"Accessing static variable through instance:\", obj.static_var)"
   ]
  },
  {
   "cell_type": "code",
   "execution_count": 6,
   "id": "29ba12a8-03fd-402e-a709-5d2bc6ef7062",
   "metadata": {},
   "outputs": [
    {
     "name": "stdout",
     "output_type": "stream",
     "text": [
      "Accessing static variable through instance after change: 40\n",
      "Accessing static variable through class after change: 30\n"
     ]
    }
   ],
   "source": [
    "class MyClass:\n",
    "    static_var = 30\n",
    "obj1 = MyClass()\n",
    "obj1.static_var = 40\n",
    "print(\"Accessing static variable through instance after change:\", obj1.static_var)\n",
    "print(\"Accessing static variable through class after change:\", MyClass.static_var)\n"
   ]
  },
  {
   "cell_type": "code",
   "execution_count": 7,
   "id": "91c34d4f-117a-4b01-8da6-d3cb23964d11",
   "metadata": {},
   "outputs": [
    {
     "name": "stdout",
     "output_type": "stream",
     "text": [
      "Accessing static variable after change through class: 60\n",
      "Accessing static variable after change through instance: 60\n"
     ]
    }
   ],
   "source": [
    "class MyClass:\n",
    "    static_var = 34\n",
    "MyClass.static_var = 60\n",
    "print(\"Accessing static variable after change through class:\", MyClass.static_var)\n",
    "obj2 = MyClass()\n",
    "print(\"Accessing static variable after change through instance:\", obj2.static_var)"
   ]
  },
  {
   "cell_type": "code",
   "execution_count": null,
   "id": "042d4109-f13d-4388-8c06-19984431809b",
   "metadata": {},
   "outputs": [],
   "source": []
  }
 ],
 "metadata": {
  "kernelspec": {
   "display_name": "Python 3 (ipykernel)",
   "language": "python",
   "name": "python3"
  },
  "language_info": {
   "codemirror_mode": {
    "name": "ipython",
    "version": 3
   },
   "file_extension": ".py",
   "mimetype": "text/x-python",
   "name": "python",
   "nbconvert_exporter": "python",
   "pygments_lexer": "ipython3",
   "version": "3.12.4"
  }
 },
 "nbformat": 4,
 "nbformat_minor": 5
}
