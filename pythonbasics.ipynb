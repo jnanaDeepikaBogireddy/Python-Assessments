{
 "cells": [
  {
   "cell_type": "code",
   "execution_count": 1,
   "id": "629661d6-6fa1-4962-a0f4-a4a495859148",
   "metadata": {},
   "outputs": [
    {
     "name": "stdout",
     "output_type": "stream",
     "text": [
      "B.Jnana Deepika\n"
     ]
    }
   ],
   "source": [
    "#Write a program to print your name.\n",
    "\n",
    "print(\"B.Jnana Deepika\")"
   ]
  },
  {
   "cell_type": "code",
   "execution_count": 2,
   "id": "dc64eb3a-facd-4cb7-b560-f480c43ab591",
   "metadata": {},
   "outputs": [
    {
     "name": "stdout",
     "output_type": "stream",
     "text": [
      "8\n",
      "-2\n"
     ]
    }
   ],
   "source": [
    "#Write a program for a Single line comment and multi-line comments\n",
    "\n",
    "# This is a single-line comment\n",
    "print(3+5)  # it performs addition between 2 numbers\n",
    "\n",
    "\"\"\"\n",
    "This is a multi-line comment.\n",
    "It spans multiple lines.\n",
    "It is often used for documentation.\n",
    "\"\"\"\n",
    "print(3-5)\n"
   ]
  },
  {
   "cell_type": "code",
   "execution_count": 3,
   "id": "5cf8673a-4b11-414d-aade-c89ae1245d09",
   "metadata": {},
   "outputs": [
    {
     "name": "stdout",
     "output_type": "stream",
     "text": [
      "10\n",
      "True\n",
      "A\n",
      "10.5\n",
      "20.123456789\n"
     ]
    }
   ],
   "source": [
    "#Define variables for different Data Types int, Boolean, char, float, double and print on the Console.\n",
    "\n",
    "integer = 10  \n",
    "boolean = True  \n",
    "char = 'A'  \n",
    "float = 10.5 \n",
    "double = 20.123456789  \n",
    "print(integer)\n",
    "print(boolean)\n",
    "print(char)\n",
    "print(float)\n",
    "print(double)"
   ]
  },
  {
   "cell_type": "code",
   "execution_count": 6,
   "id": "d9aa9870-96b9-4e7f-9af4-883df63c24cd",
   "metadata": {},
   "outputs": [
    {
     "name": "stdout",
     "output_type": "stream",
     "text": [
      "4\n",
      "3\n"
     ]
    }
   ],
   "source": [
    "#Define the local and Global variables with the same name and print both variables and understand the scope of the variables\n",
    "\n",
    "a=3\n",
    "def variable():\n",
    "    a = 4\n",
    "    print(a)  \n",
    "variable()\n",
    "print(a) \n"
   ]
  },
  {
   "cell_type": "code",
   "execution_count": null,
   "id": "990a3ecf-7fec-4be8-94a9-7d50336d1f22",
   "metadata": {},
   "outputs": [],
   "source": []
  }
 ],
 "metadata": {
  "kernelspec": {
   "display_name": "Python 3 (ipykernel)",
   "language": "python",
   "name": "python3"
  },
  "language_info": {
   "codemirror_mode": {
    "name": "ipython",
    "version": 3
   },
   "file_extension": ".py",
   "mimetype": "text/x-python",
   "name": "python",
   "nbconvert_exporter": "python",
   "pygments_lexer": "ipython3",
   "version": "3.12.4"
  }
 },
 "nbformat": 4,
 "nbformat_minor": 5
}
