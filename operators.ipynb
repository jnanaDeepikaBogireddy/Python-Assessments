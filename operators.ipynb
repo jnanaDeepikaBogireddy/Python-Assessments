{
 "cells": [
  {
   "cell_type": "code",
   "execution_count": 6,
   "id": "7fac9a14-57f9-4c87-a656-fba97eda956f",
   "metadata": {},
   "outputs": [
    {
     "name": "stdin",
     "output_type": "stream",
     "text": [
      " 2\n",
      " 0\n"
     ]
    },
    {
     "name": "stdout",
     "output_type": "stream",
     "text": [
      "Arithmetic Operations: {'addition': 2, 'subtraction': 2, 'multiplication': 0, 'division': 'Undefined (division by zero)'}\n"
     ]
    }
   ],
   "source": [
    "#Write a function for arithmetic operators(+,-,*,/)\n",
    "def arithmetic_operations(a, b):\n",
    "    return {\n",
    "        'addition': a + b,\n",
    "        'subtraction': a - b,\n",
    "        'multiplication': a * b,\n",
    "        'division': a / b if b != 0 else 'Undefined (division by zero)'\n",
    "    }\n",
    "a=int(input())\n",
    "b=int(input())\n",
    "print(\"Arithmetic Operations:\", arithmetic_operations(a, b))\n",
    "    "
   ]
  },
  {
   "cell_type": "code",
   "execution_count": 11,
   "id": "8bc66438-4e2b-4234-ab35-94dddacb087e",
   "metadata": {},
   "outputs": [
    {
     "name": "stdout",
     "output_type": "stream",
     "text": [
      "Initial value of num: 5\n",
      "After incrementing: 6\n",
      "After decrementing: 5\n",
      "After pre-increment (++num): 6\n",
      "After pre-decrement (--num): 5\n"
     ]
    }
   ],
   "source": [
    "#Write a method for increment and decrement operators(++, --)\n",
    "def increment_decrement():\n",
    "    num = 5\n",
    "    print(\"Initial value of num:\",num)\n",
    "    num += 1\n",
    "    print(\"After incrementing:\",num)\n",
    "    num -= 1\n",
    "    print(\"After decrementing:\",num)\n",
    "    num += 1\n",
    "    print(\"After pre-increment (++num):\",num)\n",
    "    num -= 1\n",
    "    print(\"After pre-decrement (--num):\",num)\n",
    "increment_decrement()\n"
   ]
  },
  {
   "cell_type": "code",
   "execution_count": 29,
   "id": "82675590-f9f5-4247-88b6-293469f639d4",
   "metadata": {},
   "outputs": [
    {
     "name": "stdin",
     "output_type": "stream",
     "text": [
      " 5\n",
      " 5\n"
     ]
    },
    {
     "name": "stdout",
     "output_type": "stream",
     "text": [
      "Equal\n"
     ]
    }
   ],
   "source": [
    "#3. Write a program to find the two numbers equal or not\n",
    "a=int(input())\n",
    "b=int(input())\n",
    "if a==b:\n",
    "    print(\"Equal\")\n",
    "else:\n",
    "    print(\"Not Equal\")"
   ]
  },
  {
   "cell_type": "code",
   "execution_count": 24,
   "id": "8f99e8ce-e997-4917-b7ac-230a514f0eb9",
   "metadata": {},
   "outputs": [
    {
     "name": "stdin",
     "output_type": "stream",
     "text": [
      " 5\n",
      " 2\n"
     ]
    },
    {
     "name": "stdout",
     "output_type": "stream",
     "text": [
      "5 greater than 2\n"
     ]
    }
   ],
   "source": [
    "#Program for relational operators (<,<==, >, >==)\n",
    "c=int(input())\n",
    "d=int(input())\n",
    "if c<d:\n",
    "    print(c,\"is less than\",d)\n",
    "elif c<=d:\n",
    "    print(c,\"less than or equal to\",d)\n",
    "elif c>d:\n",
    "    print(c,\"greater than\",d)\n",
    "else:\n",
    "    print(c,\"greater than or equal to\",d)"
   ]
  },
  {
   "cell_type": "code",
   "execution_count": 28,
   "id": "7fdcdd1e-ac0c-4be5-b7a4-f3b4e0347142",
   "metadata": {},
   "outputs": [
    {
     "name": "stdin",
     "output_type": "stream",
     "text": [
      " 8\n",
      " 2\n"
     ]
    },
    {
     "name": "stdout",
     "output_type": "stream",
     "text": [
      "2 is smaller\n",
      "8 is bigger\n"
     ]
    }
   ],
   "source": [
    "#Print the smaller and larger number\n",
    "var1=int(input())\n",
    "var2=int(input())\n",
    "if var1<var2:\n",
    "    print(var1,\"is smaller\")\n",
    "    print(var2,\"is bigger\")\n",
    "else:\n",
    "    print(var2,\"is smaller\")\n",
    "    print(var1,\"is bigger\")"
   ]
  },
  {
   "cell_type": "code",
   "execution_count": null,
   "id": "b98286a5-9625-4bcf-8c1d-9e9c65a2a4a8",
   "metadata": {},
   "outputs": [],
   "source": []
  }
 ],
 "metadata": {
  "kernelspec": {
   "display_name": "Python 3 (ipykernel)",
   "language": "python",
   "name": "python3"
  },
  "language_info": {
   "codemirror_mode": {
    "name": "ipython",
    "version": 3
   },
   "file_extension": ".py",
   "mimetype": "text/x-python",
   "name": "python",
   "nbconvert_exporter": "python",
   "pygments_lexer": "ipython3",
   "version": "3.12.4"
  }
 },
 "nbformat": 4,
 "nbformat_minor": 5
}
