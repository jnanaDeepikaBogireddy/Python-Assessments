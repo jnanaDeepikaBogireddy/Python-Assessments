{
 "cells": [
  {
   "cell_type": "code",
   "execution_count": 6,
   "id": "a7434af9-dbb1-4764-9b52-9865a3230e23",
   "metadata": {},
   "outputs": [
    {
     "name": "stdout",
     "output_type": "stream",
     "text": [
      "Car: Toyota\n",
      "Bike: Yamaha\n"
     ]
    }
   ],
   "source": [
    "from abc import ABC, abstractmethod\n",
    "\n",
    "class Vehicle(ABC):\n",
    "    def __init__(self, brand):\n",
    "        self.brand = brand\n",
    "\n",
    "    @abstractmethod\n",
    "    def details(self):\n",
    "        pass\n",
    "\n",
    "class Car(Vehicle):\n",
    "    def details(self):\n",
    "        return f\"Car: {self.brand}\"\n",
    "\n",
    "class Bike(Vehicle):\n",
    "    def details(self):\n",
    "        return f\"Bike: {self.brand}\"\n",
    "\n",
    "car = Car(\"Toyota\")\n",
    "bike = Bike(\"Yamaha\")\n",
    "\n",
    "print(car.details())\n",
    "print(bike.details())\n"
   ]
  },
  {
   "cell_type": "code",
   "execution_count": 15,
   "id": "468d8ee8-a6eb-42f7-a772-482d487510e7",
   "metadata": {},
   "outputs": [
    {
     "name": "stdout",
     "output_type": "stream",
     "text": [
      "Laptop Brand: Dell\n",
      "Dell\n"
     ]
    }
   ],
   "source": [
    "from abc import ABC, abstractmethod\n",
    "\n",
    "class Device(ABC):\n",
    "    def __init__(self, brand):\n",
    "        self.brand = brand\n",
    "    \n",
    "    @abstractmethod\n",
    "    def details(self):\n",
    "        pass\n",
    "    \n",
    "    def show_brand(self):\n",
    "        return self.brand\n",
    "\n",
    "class Laptop(Device):\n",
    "    def details(self):\n",
    "        return f\"Laptop Brand: {self.brand}\"\n",
    "\n",
    "laptop = Laptop(\"Dell\")\n",
    "print(laptop.details())\n",
    "print(laptop.show_brand())"
   ]
  },
  {
   "cell_type": "code",
   "execution_count": 14,
   "id": "f547d6dd-cb69-4157-b470-8b89e6bfab21",
   "metadata": {},
   "outputs": [
    {
     "name": "stdout",
     "output_type": "stream",
     "text": [
      "Washing Machine Brand: LG\n",
      "LG\n"
     ]
    }
   ],
   "source": [
    "from abc import ABC, abstractmethod\n",
    "\n",
    "class Appliance(ABC):\n",
    "    def __init__(self, brand):\n",
    "        self.brand = brand\n",
    "    \n",
    "    @abstractmethod\n",
    "    def details(self):\n",
    "        pass\n",
    "    \n",
    "    def show_brand(self):\n",
    "        return self.brand\n",
    "\n",
    "class WashingMachine(Appliance):\n",
    "    def details(self):\n",
    "        return f\"Washing Machine Brand: {self.brand}\"\n",
    "\n",
    "    def create_instance(self):\n",
    "        wm_instance = WashingMachine(\"LG\")\n",
    "        print(wm_instance.details())\n",
    "        print(wm_instance.show_brand())\n",
    "\n",
    "wm = WashingMachine(\"Samsung\")\n",
    "wm.create_instance()\n"
   ]
  },
  {
   "cell_type": "code",
   "execution_count": 13,
   "id": "08b7d161-832c-4e02-9e24-8bcc0ecff638",
   "metadata": {},
   "outputs": [
    {
     "name": "stdout",
     "output_type": "stream",
     "text": [
      "Bulldog\n"
     ]
    }
   ],
   "source": [
    "from abc import ABC\n",
    "\n",
    "class Animal(ABC):\n",
    "    def __init__(self, name):\n",
    "        self.name = name\n",
    "    \n",
    "    def show_name(self):\n",
    "        return self.name\n",
    "\n",
    "class Dog(Animal):\n",
    "    def create_instance(self):\n",
    "        dog_instance = Dog(\"Bulldog\")\n",
    "        print(dog_instance.show_name())\n",
    "\n",
    "dog = Dog(\"Golden Retriever\")\n",
    "dog.create_instance()"
   ]
  },
  {
   "cell_type": "code",
   "execution_count": null,
   "id": "e6af09ee-33c9-4d1f-974f-5f9c81671043",
   "metadata": {},
   "outputs": [],
   "source": []
  }
 ],
 "metadata": {
  "kernelspec": {
   "display_name": "Python 3 (ipykernel)",
   "language": "python",
   "name": "python3"
  },
  "language_info": {
   "codemirror_mode": {
    "name": "ipython",
    "version": 3
   },
   "file_extension": ".py",
   "mimetype": "text/x-python",
   "name": "python",
   "nbconvert_exporter": "python",
   "pygments_lexer": "ipython3",
   "version": "3.12.4"
  }
 },
 "nbformat": 4,
 "nbformat_minor": 5
}
