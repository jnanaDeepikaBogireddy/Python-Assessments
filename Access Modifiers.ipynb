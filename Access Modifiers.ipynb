{
 "cells": [
  {
   "cell_type": "code",
   "execution_count": 13,
   "id": "5fca925e-1b0a-4958-a052-5d5896488b39",
   "metadata": {},
   "outputs": [
    {
     "name": "stdout",
     "output_type": "stream",
     "text": [
      "Protected Variable\n",
      "Protected Method Accessed!\n"
     ]
    }
   ],
   "source": [
    "class Parent:\n",
    "    def __init__(self):\n",
    "        self._protected_var = \"Protected Variable\"\n",
    "\n",
    "    def _protected_method(self):\n",
    "        print(\"Protected Method Accessed!\")\n",
    "class SamePackage:\n",
    "    def access_protected(self):\n",
    "        obj = Parent()\n",
    "        print(obj._protected_var)\n",
    "        obj._protected_method()  \n",
    "\n",
    "same_pkg = SamePackage()\n",
    "same_pkg.access_protected()"
   ]
  },
  {
   "cell_type": "code",
   "execution_count": 19,
   "id": "d39a71df-2144-43bf-9145-e787a6084855",
   "metadata": {},
   "outputs": [
    {
     "name": "stdout",
     "output_type": "stream",
     "text": [
      "Private Method: Name - jnana, Age - 20\n",
      "Cannot access private members from subclass!\n"
     ]
    }
   ],
   "source": [
    "class Parent:\n",
    "    def __init__(self, name, age):\n",
    "        self.__name = name  \n",
    "        self.__age = age    \n",
    "\n",
    "    def __private_method(self): \n",
    "        print(f\"Private Method: Name - {self.__name}, Age - {self.__age}\")\n",
    "\n",
    "    def public_method(self):\n",
    "        self.__private_method()\n",
    "def main():\n",
    "    obj = Parent(\"jnana\", 20)\n",
    "    obj.public_method()  \n",
    "class Child(Parent):\n",
    "    def access_private(self):\n",
    "        \n",
    "        print(\"Cannot access private members from subclass!\")\n",
    "main()\n",
    "\n",
    "\n",
    "child = Child(\"hasini\", 30)\n",
    "child.access_private()"
   ]
  },
  {
   "cell_type": "code",
   "execution_count": 17,
   "id": "011192ae-b05f-4f60-9f92-00344aceb0aa",
   "metadata": {},
   "outputs": [
    {
     "name": "stdout",
     "output_type": "stream",
     "text": [
      "This is Public\n",
      "Public Method Accessed!\n"
     ]
    }
   ],
   "source": [
    "\n",
    "class PublicClass:\n",
    "    def __init__(self):\n",
    "        self.public_var = \"This is Public\"\n",
    "    \n",
    "    def public_method(self):\n",
    "        print(\"Public Method Accessed!\")\n",
    "obj = PublicClass()\n",
    "print(obj.public_var)  \n",
    "obj.public_method()  "
   ]
  },
  {
   "cell_type": "code",
   "execution_count": null,
   "id": "ccec8bd9-10ae-45c1-a119-b8b61555b645",
   "metadata": {},
   "outputs": [],
   "source": []
  }
 ],
 "metadata": {
  "kernelspec": {
   "display_name": "Python 3 (ipykernel)",
   "language": "python",
   "name": "python3"
  },
  "language_info": {
   "codemirror_mode": {
    "name": "ipython",
    "version": 3
   },
   "file_extension": ".py",
   "mimetype": "text/x-python",
   "name": "python",
   "nbconvert_exporter": "python",
   "pygments_lexer": "ipython3",
   "version": "3.12.4"
  }
 },
 "nbformat": 4,
 "nbformat_minor": 5
}
