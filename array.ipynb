{
 "cells": [
  {
   "cell_type": "code",
   "execution_count": 1,
   "id": "bf5f7e44-a0fa-46c4-b9e4-b5b8b91f4306",
   "metadata": {},
   "outputs": [
    {
     "name": "stdin",
     "output_type": "stream",
     "text": [
      " 4\n",
      " 6 4 3 1\n"
     ]
    },
    {
     "name": "stdout",
     "output_type": "stream",
     "text": [
      "The sum of the array is: 14\n"
     ]
    }
   ],
   "source": [
    "def array_sum(arr):\n",
    "    total = 0\n",
    "    for num in arr:\n",
    "        total += num\n",
    "    return total\n",
    "n=int(input())\n",
    "arr = list(map(int,input().split()))\n",
    "result = array_sum(arr)\n",
    "print(\"The sum of the array is:\",result)"
   ]
  },
  {
   "cell_type": "code",
   "execution_count": 2,
   "id": "3d98dd0b-92ac-423b-8a59-b14e6c88c30c",
   "metadata": {},
   "outputs": [
    {
     "name": "stdin",
     "output_type": "stream",
     "text": [
      " 5\n",
      " 1 4 6 7 9\n"
     ]
    },
    {
     "name": "stdout",
     "output_type": "stream",
     "text": [
      "The average of the array is: 5.4\n"
     ]
    }
   ],
   "source": [
    "def array_average():\n",
    "    n = int(input())\n",
    "    arr = list(map(int, input().split()))\n",
    "    total = 0\n",
    "    for i in arr:\n",
    "        total += i\n",
    "    average = total / n\n",
    "    return average\n",
    "\n",
    "average_value = array_average()\n",
    "print(\"The average of the array is:\", average_value)"
   ]
  },
  {
   "cell_type": "code",
   "execution_count": 4,
   "id": "5c3009ce-ffae-4b31-a5b7-0af57bcbaf8b",
   "metadata": {},
   "outputs": [
    {
     "name": "stdin",
     "output_type": "stream",
     "text": [
      " 9 \n",
      " 1 2 3 4 5 6 7 8 9\n",
      " 8\n"
     ]
    },
    {
     "name": "stdout",
     "output_type": "stream",
     "text": [
      "The index of 8 is: 7\n"
     ]
    }
   ],
   "source": [
    "def find_index():\n",
    "    n = int(input())\n",
    "    arr = list(map(int, input().split()))\n",
    "    value = int(input())\n",
    "    \n",
    "    if value in arr:\n",
    "        index = arr.index(value)\n",
    "        return f\"The index of {value} is: {index}\"\n",
    "    else:\n",
    "        return f\"Element {value} not found in the array.\"\n",
    "\n",
    "result = find_index()\n",
    "print(result)\n"
   ]
  },
  {
   "cell_type": "code",
   "execution_count": 5,
   "id": "f55b2367-7087-4838-b139-e93db133219a",
   "metadata": {},
   "outputs": [
    {
     "name": "stdin",
     "output_type": "stream",
     "text": [
      " 8 10 11 12 6\n",
      " 5 \n"
     ]
    },
    {
     "name": "stdout",
     "output_type": "stream",
     "text": [
      "Array does not contain the value\n"
     ]
    }
   ],
   "source": [
    "def contains_value(arr, value):\n",
    "    if value in arr:\n",
    "        return \"Array contains the value\"\n",
    "    else:\n",
    "        return \"Array does not contain the value\"\n",
    "\n",
    "arr = list(map(int, input().split()))\n",
    "value = int(input())\n",
    "result = contains_value(arr, value)\n",
    "print(result)\n"
   ]
  },
  {
   "cell_type": "code",
   "execution_count": 6,
   "id": "58204fff-8fd7-467a-93ea-2abf432d2766",
   "metadata": {},
   "outputs": [
    {
     "name": "stdin",
     "output_type": "stream",
     "text": [
      " 5\n",
      "  41 42 43 44 45\n",
      " 43\n"
     ]
    },
    {
     "name": "stdout",
     "output_type": "stream",
     "text": [
      "Array after removing 43: [41, 42, 44, 45]\n"
     ]
    }
   ],
   "source": [
    "def remove_element():\n",
    "    n = int(input())\n",
    "    arr = list(map(int, input().split()))\n",
    "    value = int(input())\n",
    "    \n",
    "    if value in arr:\n",
    "        arr.remove(value)\n",
    "        print(f\"Array after removing {value}: {arr}\")\n",
    "    else:\n",
    "        print(f\"Element {value} not found in the array.\")\n",
    "\n",
    "remove_element()\n"
   ]
  },
  {
   "cell_type": "code",
   "execution_count": 7,
   "id": "91749b36-e3ce-4be4-a1da-cbec8f0825db",
   "metadata": {},
   "outputs": [
    {
     "name": "stdin",
     "output_type": "stream",
     "text": [
      " 4\n",
      " 12 14 16 18 \n"
     ]
    },
    {
     "name": "stdout",
     "output_type": "stream",
     "text": [
      "Original Array: [12, 14, 16, 18]\n",
      "Copied Array: [12, 14, 16, 18]\n"
     ]
    }
   ],
   "source": [
    "def copy_array():\n",
    "    n = int(input())\n",
    "    arr = list(map(int, input().split()))\n",
    "    copied_arr = arr[:]\n",
    "    print(\"Original Array:\", arr)\n",
    "    print(\"Copied Array:\", copied_arr)\n",
    "\n",
    "copy_array()"
   ]
  },
  {
   "cell_type": "code",
   "execution_count": 8,
   "id": "58b1c846-c2aa-4cda-bbc2-6e2e68af8e7f",
   "metadata": {},
   "outputs": [
    {
     "name": "stdin",
     "output_type": "stream",
     "text": [
      "Enter the number of elements in the array:  5\n",
      "Enter the array elements :  10 20 30 40 50\n",
      "Enter the position to insert the element at:  3\n",
      "Enter the value to insert:  80\n"
     ]
    },
    {
     "name": "stdout",
     "output_type": "stream",
     "text": [
      "Array after inserting 80 at position 3: [10, 20, 30, 80, 40, 50]\n"
     ]
    }
   ],
   "source": [
    "def insert_element():\n",
    "    n = int(input(\"Enter the number of elements in the array: \"))\n",
    "    arr = list(map(int, input(\"Enter the array elements : \").split()))\n",
    "    position = int(input(\"Enter the position to insert the element at: \"))\n",
    "    value = int(input(\"Enter the value to insert: \"))\n",
    "\n",
    "    if position < 0 or position > len(arr):\n",
    "        print(\"Invalid position!\")\n",
    "    else:\n",
    "        arr.insert(position, value)\n",
    "        print(f\"Array after inserting {value} at position {position}: {arr}\")\n",
    "\n",
    "insert_element()\n"
   ]
  },
  {
   "cell_type": "code",
   "execution_count": 9,
   "id": "a013a862-1074-41da-bb12-c997afb27269",
   "metadata": {},
   "outputs": [
    {
     "name": "stdin",
     "output_type": "stream",
     "text": [
      "Enter the number of elements in the array:  3\n",
      "Enter 3 array elements separated by space:   16 18 14 20\n"
     ]
    },
    {
     "name": "stdout",
     "output_type": "stream",
     "text": [
      "The minimum value in the array is: 14\n",
      "The maximum value in the array is: 20\n"
     ]
    }
   ],
   "source": [
    "def find_min_max():\n",
    "    n = int(input(\"Enter the number of elements in the array: \"))\n",
    "    arr = list(map(int, input(f\"Enter {n} array elements separated by space: \").split()))\n",
    "\n",
    "    min_value = min(arr)\n",
    "    max_value = max(arr)\n",
    "\n",
    "    print(f\"The minimum value in the array is: {min_value}\")\n",
    "    print(f\"The maximum value in the array is: {max_value}\")\n",
    "\n",
    "find_min_max()\n",
    "\n"
   ]
  },
  {
   "cell_type": "code",
   "execution_count": 10,
   "id": "34c34af3-1a23-4f78-b86d-4690b32c5efb",
   "metadata": {},
   "outputs": [
    {
     "name": "stdin",
     "output_type": "stream",
     "text": [
      " 6\n",
      " 1 5 8 9 4\n"
     ]
    },
    {
     "name": "stdout",
     "output_type": "stream",
     "text": [
      "Array after removing duplicates:\n",
      "[1, 4, 5, 8, 9]\n"
     ]
    }
   ],
   "source": [
    "def remove_duplicates():\n",
    "    n = int(input())\n",
    "    arr = list(map(int, input().split()))\n",
    "\n",
    "    unique_arr = list(set(arr))\n",
    "\n",
    "    print(\"Array after removing duplicates:\")\n",
    "    print(unique_arr)\n",
    "\n",
    "remove_duplicates()\n"
   ]
  },
  {
   "cell_type": "code",
   "execution_count": 12,
   "id": "f0fbb290-421c-47f8-88bc-c27936d75fa5",
   "metadata": {},
   "outputs": [
    {
     "name": "stdin",
     "output_type": "stream",
     "text": [
      " 4 \n",
      " 1 2 1 3\n"
     ]
    },
    {
     "name": "stdout",
     "output_type": "stream",
     "text": [
      "The duplicate values in the array are:\n",
      "{1}\n"
     ]
    }
   ],
   "source": [
    "def find_duplicates():\n",
    "    n = int(input())\n",
    "    arr = list(map(int, input().split()))\n",
    "\n",
    "    seen = set()\n",
    "    duplicates = set()\n",
    "\n",
    "    for num in arr:\n",
    "        if num in seen:\n",
    "            duplicates.add(num)\n",
    "        else:\n",
    "            seen.add(num)\n",
    "\n",
    "    if duplicates:\n",
    "        print(\"The duplicate values in the array are:\")\n",
    "        print(duplicates)\n",
    "    else:\n",
    "        print(\"No duplicates found.\")\n",
    "\n",
    "find_duplicates()"
   ]
  },
  {
   "cell_type": "code",
   "execution_count": 13,
   "id": "a3d0f1bf-9110-436b-be92-17d947b2c305",
   "metadata": {},
   "outputs": [
    {
     "name": "stdin",
     "output_type": "stream",
     "text": [
      " 5\n",
      " 8 9 5 0 4\n",
      " 5\n",
      " 1 5 4 8 7\n"
     ]
    },
    {
     "name": "stdout",
     "output_type": "stream",
     "text": [
      "The common values between the two arrays are:\n",
      "[8, 4, 5]\n"
     ]
    }
   ],
   "source": [
    "def find_common_values():\n",
    "    n1 = int(input())\n",
    "    arr1 = list(map(int, input().split()))\n",
    "\n",
    "    n2 = int(input())\n",
    "    arr2 = list(map(int, input().split()))\n",
    "\n",
    "    common_values = list(set(arr1) & set(arr2))\n",
    "\n",
    "    if common_values:\n",
    "        print(\"The common values between the two arrays are:\")\n",
    "        print(common_values)\n",
    "    else:\n",
    "        print(\"No common values found.\")\n",
    "\n",
    "find_common_values()"
   ]
  },
  {
   "cell_type": "code",
   "execution_count": 14,
   "id": "fdc472e1-1548-48ae-aeb8-bdf893a76bf7",
   "metadata": {},
   "outputs": [
    {
     "name": "stdin",
     "output_type": "stream",
     "text": [
      " 3\n",
      "  8 1 1\n"
     ]
    },
    {
     "name": "stdout",
     "output_type": "stream",
     "text": [
      "Array after removing duplicates:\n",
      "[8, 1]\n"
     ]
    }
   ],
   "source": [
    "def remove_duplicates():\n",
    "    n = int(input())\n",
    "    arr = list(map(int, input().split()))\n",
    "\n",
    "    unique_arr = list(set(arr))\n",
    "\n",
    "    print(\"Array after removing duplicates:\")\n",
    "    print(unique_arr)\n",
    "\n",
    "remove_duplicates()\n"
   ]
  },
  {
   "cell_type": "code",
   "execution_count": 15,
   "id": "dfb520ea-59d0-4b9a-8557-90b1ab7b960a",
   "metadata": {},
   "outputs": [
    {
     "name": "stdin",
     "output_type": "stream",
     "text": [
      " 6\n",
      "  10 11 13 15 78 52\n"
     ]
    },
    {
     "name": "stdout",
     "output_type": "stream",
     "text": [
      "The second largest number is: 52\n"
     ]
    }
   ],
   "source": [
    "def second_largest():\n",
    "    n = int(input())\n",
    "    arr = list(map(int, input().split()))\n",
    "    unique_arr = list(set(arr))\n",
    "    unique_arr.sort()\n",
    "\n",
    "    if len(unique_arr) < 2:\n",
    "        print(\"There is no second largest element.\")\n",
    "    else:\n",
    "        second_largest = unique_arr[-2]\n",
    "        print(\"The second largest number is:\", second_largest)\n",
    "\n",
    "second_largest()\n"
   ]
  },
  {
   "cell_type": "code",
   "execution_count": 16,
   "id": "7f679689-5212-4eb8-972a-67aefb93b4bd",
   "metadata": {},
   "outputs": [
    {
     "name": "stdin",
     "output_type": "stream",
     "text": [
      " 6 \n",
      " 78 42 33 41 76 2\n"
     ]
    },
    {
     "name": "stdout",
     "output_type": "stream",
     "text": [
      "Number of even numbers: 4\n",
      "Number of odd numbers: 2\n"
     ]
    }
   ],
   "source": [
    "def count_even_odd():\n",
    "    n = int(input())\n",
    "    arr = list(map(int, input().split()))\n",
    "    even_count = 0\n",
    "    odd_count = 0\n",
    "\n",
    "    for num in arr:\n",
    "        if num % 2 == 0:\n",
    "            even_count += 1\n",
    "        else:\n",
    "            odd_count += 1\n",
    "\n",
    "    print(f\"Number of even numbers: {even_count}\")\n",
    "    print(f\"Number of odd numbers: {odd_count}\")\n",
    "\n",
    "count_even_odd()"
   ]
  },
  {
   "cell_type": "code",
   "execution_count": 18,
   "id": "f1408acf-e554-42b1-abd4-81ecc511928b",
   "metadata": {},
   "outputs": [
    {
     "name": "stdin",
     "output_type": "stream",
     "text": [
      " 12\n",
      " 28\n"
     ]
    },
    {
     "name": "stdout",
     "output_type": "stream",
     "text": [
      "The array does not contain both 12 and 23.\n"
     ]
    }
   ],
   "source": [
    "def contains_specified_elements():\n",
    "    n = int(input())\n",
    "    arr = list(map(int, input().split()))\n",
    "\n",
    "    if 12 in arr and 23 in arr:\n",
    "        print(\"The array contains both 12 and 23.\")\n",
    "    else:\n",
    "        print(\"The array does not contain both 12 and 23.\")\n",
    "\n",
    "contains_specified_elements()\n"
   ]
  },
  {
   "cell_type": "code",
   "execution_count": null,
   "id": "778496ef-5054-4c81-babc-40f1c283a50b",
   "metadata": {},
   "outputs": [],
   "source": []
  }
 ],
 "metadata": {
  "kernelspec": {
   "display_name": "Python 3 (ipykernel)",
   "language": "python",
   "name": "python3"
  },
  "language_info": {
   "codemirror_mode": {
    "name": "ipython",
    "version": 3
   },
   "file_extension": ".py",
   "mimetype": "text/x-python",
   "name": "python",
   "nbconvert_exporter": "python",
   "pygments_lexer": "ipython3",
   "version": "3.12.4"
  }
 },
 "nbformat": 4,
 "nbformat_minor": 5
}
