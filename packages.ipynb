{
 "cells": [
  {
   "cell_type": "code",
   "execution_count": 12,
   "id": "9e2d4679-c73e-4c95-8385-a73201ecfcd1",
   "metadata": {},
   "outputs": [
    {
     "name": "stdout",
     "output_type": "stream",
     "text": [
      "ClassA Constructor Called\n",
      "Method from ClassA\n"
     ]
    }
   ],
   "source": [
    "class ClassA:\n",
    "    def __init__(self): \n",
    "        print(\"ClassA Constructor Called\")\n",
    "\n",
    "    def method_a(self):\n",
    "        print(\"Method from ClassA\")\n",
    "\n",
    "\n",
    "\n",
    "obj = ClassA()  \n",
    "obj.method_a()\n"
   ]
  },
  {
   "cell_type": "code",
   "execution_count": 13,
   "id": "9dc2be17-5d5d-4c98-baf0-3e6039acb836",
   "metadata": {},
   "outputs": [
    {
     "name": "stdout",
     "output_type": "stream",
     "text": [
      "ClassB Constructor Called\n",
      "Method from ClassB\n"
     ]
    }
   ],
   "source": [
    "class ClassB:\n",
    "    def __init__(self): \n",
    "        print(\"ClassB Constructor Called\")\n",
    "\n",
    "    def method_b(self):\n",
    "        print(\"Method from ClassB\")\n",
    "\n",
    "\n",
    "\n",
    "obj = ClassB()  \n",
    "obj.method_b()\n"
   ]
  },
  {
   "cell_type": "code",
   "execution_count": 14,
   "id": "0c38c016-6c07-46e6-ae0f-d6c122c5385b",
   "metadata": {},
   "outputs": [
    {
     "name": "stdout",
     "output_type": "stream",
     "text": [
      "ClassR Constructor Called\n",
      "Method from ClassR\n"
     ]
    }
   ],
   "source": [
    "\n",
    "class ClassR:\n",
    "    def __init__(self):  \n",
    "        print(\"ClassR Constructor Called\")\n",
    "\n",
    "    def method_b(self):\n",
    "        print(\"Method from ClassR\")\n",
    "\n",
    "\n",
    "\n",
    "obj = ClassR() \n",
    "obj.method_b()\n"
   ]
  },
  {
   "cell_type": "code",
   "execution_count": 15,
   "id": "b880fc4b-07d6-4fdc-94a8-b802860b9cd7",
   "metadata": {},
   "outputs": [
    {
     "name": "stdout",
     "output_type": "stream",
     "text": [
      "ClassM Constructor Called\n",
      "Method from ClassA\n",
      "ClassN Constructor Called\n",
      "Method from ClassB\n"
     ]
    }
   ],
   "source": [
    "class ClassM:\n",
    "    def __init__(self):  \n",
    "        print(\"ClassM Constructor Called\")\n",
    "\n",
    "    def method_a(self):\n",
    "        print(\"Method from ClassA\")\n",
    "\n",
    "\n",
    "class ClassN:\n",
    "    def __init__(self): \n",
    "        print(\"ClassN Constructor Called\")\n",
    "\n",
    "    def method_b(self):\n",
    "        print(\"Method from ClassB\")\n",
    "\n",
    "\n",
    "\n",
    "obj_a = ClassM()  \n",
    "obj_a.method_a() \n",
    "\n",
    "obj_b = ClassN()  \n",
    "obj_b.method_b()  \n"
   ]
  },
  {
   "cell_type": "code",
   "execution_count": 11,
   "id": "d1e68ac2-f27c-4064-b5a6-ecdd75674411",
   "metadata": {},
   "outputs": [
    {
     "name": "stdout",
     "output_type": "stream",
     "text": [
      "ClassA Constructor Called\n",
      "Method from ClassA\n",
      "ClassB Constructor Called\n",
      "Method from ClassB\n"
     ]
    }
   ],
   "source": [
    "\n",
    "class ClassA:\n",
    "    def __init__(self):  # Correct constructor\n",
    "        print(\"ClassA Constructor Called\")\n",
    "\n",
    "    def method_a(self):\n",
    "        print(\"Method from ClassA\")\n",
    "\n",
    "\n",
    "# Defining ClassB\n",
    "class ClassB:\n",
    "    def __init__(self):  # Correct constructor\n",
    "        print(\"ClassB Constructor Called\")\n",
    "\n",
    "    def method_b(self):\n",
    "        print(\"Method from ClassB\")\n",
    "\n",
    "\n",
    "# Main function to execute the program\n",
    "def main():\n",
    "    # Creating object of ClassA\n",
    "    obj_a = ClassA()  \n",
    "    obj_a.method_a()  \n",
    "\n",
    "    # Creating object of ClassB\n",
    "    obj_b = ClassB()  \n",
    "    obj_b.method_b()  \n",
    "\n",
    "\n",
    "# Calling the main function\n",
    "if __name__ == \"__main__\":\n",
    "    main()\n"
   ]
  },
  {
   "cell_type": "code",
   "execution_count": null,
   "id": "869a019b-4a95-4e3d-8ffd-16c699dc4241",
   "metadata": {},
   "outputs": [],
   "source": []
  }
 ],
 "metadata": {
  "kernelspec": {
   "display_name": "Python 3 (ipykernel)",
   "language": "python",
   "name": "python3"
  },
  "language_info": {
   "codemirror_mode": {
    "name": "ipython",
    "version": 3
   },
   "file_extension": ".py",
   "mimetype": "text/x-python",
   "name": "python",
   "nbconvert_exporter": "python",
   "pygments_lexer": "ipython3",
   "version": "3.12.4"
  }
 },
 "nbformat": 4,
 "nbformat_minor": 5
}
