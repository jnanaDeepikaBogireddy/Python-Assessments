{
 "cells": [
  {
   "cell_type": "code",
   "execution_count": 1,
   "id": "5176c2e3-5a5e-469e-a796-b8fff8698cb4",
   "metadata": {},
   "outputs": [
    {
     "name": "stdout",
     "output_type": "stream",
     "text": [
      "Using Single Quotes: deepika bogireddy\n",
      "Using Double Quotes: jnana deepika\n",
      "Using Triple Single Quotes: hey you\n",
      "multi-line string.\n",
      "Using Triple Double Quotes: again you\n",
      "a multi-line string.\n",
      "Using str() Constructor (from integer): 865\n",
      "Using str() Constructor (from list): [4, 5, 6]\n",
      "Using join() Method: jnana\n",
      "Using String Concatenation: Hello World!\n",
      "Using f-strings: Hello, daddy!\n",
      "Using format() Method: Hello, bobby!\n",
      "Using Escape Sequences: Hello\n",
      "World!\n"
     ]
    }
   ],
   "source": [
    "string1 = 'deepika bogireddy'\n",
    "print(\"Using Single Quotes:\", string1)\n",
    "\n",
    "string2 = \"jnana deepika\"\n",
    "print(\"Using Double Quotes:\", string2)\n",
    "\n",
    "string3 = '''hey you\n",
    "multi-line string.'''\n",
    "print(\"Using Triple Single Quotes:\", string3)\n",
    "\n",
    "string4 = \"\"\"again you\n",
    "a multi-line string.\"\"\"\n",
    "print(\"Using Triple Double Quotes:\", string4)\n",
    "\n",
    "string5 = str(865)\n",
    "print(\"Using str() Constructor (from integer):\", string5)\n",
    "\n",
    "string6 = str([4,5,6])\n",
    "print(\"Using str() Constructor (from list):\", string6)\n",
    "\n",
    "char_list = ['j', 'n', 'a', 'n', 'a']\n",
    "string7 = ''.join(char_list)\n",
    "print(\"Using join() Method:\", string7)\n",
    "\n",
    "string8 = \"Hello\" + \" \" + \"World!\"\n",
    "print(\"Using String Concatenation:\", string8)\n",
    "\n",
    "name = \"daddy\"\n",
    "greeting = f\"Hello, {name}!\"\n",
    "print(\"Using f-strings:\", greeting)\n",
    "\n",
    "string9 = \"Hello, {}!\".format(\"bobby\")\n",
    "print(\"Using format() Method:\", string9)\n",
    "\n",
    "string10 = \"Hello\\nWorld!\"\n",
    "print(\"Using Escape Sequences:\", string10)"
   ]
  },
  {
   "cell_type": "code",
   "execution_count": 2,
   "id": "e53689c9-0090-41b0-b3a8-472a9eb6ed27",
   "metadata": {},
   "outputs": [
    {
     "name": "stdin",
     "output_type": "stream",
     "text": [
      " sujatha\n",
      " bogireddy\n"
     ]
    },
    {
     "name": "stdout",
     "output_type": "stream",
     "text": [
      "sujatha bogireddy\n"
     ]
    }
   ],
   "source": [
    "string1 = input()\n",
    "string2 = input()\n",
    "\n",
    "result = string1 + \" \" + string2\n",
    "print(result)"
   ]
  },
  {
   "cell_type": "code",
   "execution_count": 3,
   "id": "6d6ef86a-149b-49c0-80af-0ffabcbbcaa0",
   "metadata": {},
   "outputs": [
    {
     "name": "stdin",
     "output_type": "stream",
     "text": [
      " see you\n"
     ]
    },
    {
     "name": "stdout",
     "output_type": "stream",
     "text": [
      "The length of the string is: 7\n"
     ]
    }
   ],
   "source": [
    "string =input()\n",
    "length = len(string)\n",
    "print(\"The length of the string is:\", length)"
   ]
  },
  {
   "cell_type": "code",
   "execution_count": 4,
   "id": "531b75b7-44ed-4ab7-81f6-3a6eb2fd3f1f",
   "metadata": {},
   "outputs": [
    {
     "name": "stdin",
     "output_type": "stream",
     "text": [
      "Enter a string:  cargo shipping\n",
      "Enter the start index:  4\n",
      "Enter the end index:  7\n"
     ]
    },
    {
     "name": "stdout",
     "output_type": "stream",
     "text": [
      "Extracted substring: o s\n"
     ]
    }
   ],
   "source": [
    "string = input(\"Enter a string: \")\n",
    "start = int(input(\"Enter the start index: \"))\n",
    "end = int(input(\"Enter the end index: \"))\n",
    "substring = string[start:end]\n",
    "print(\"Extracted substring:\", substring)"
   ]
  },
  {
   "cell_type": "code",
   "execution_count": 5,
   "id": "27c3b27e-2416-493a-a21f-9c85cd831c0f",
   "metadata": {},
   "outputs": [
    {
     "name": "stdin",
     "output_type": "stream",
     "text": [
      "Enter a string:  my name is pavan\n",
      "Enter the substring to find:  pavan\n"
     ]
    },
    {
     "name": "stdout",
     "output_type": "stream",
     "text": [
      "The index of 'pavan' is: 11\n"
     ]
    }
   ],
   "source": [
    "string = input(\"Enter a string: \")\n",
    "substring = input(\"Enter the substring to find: \")\n",
    "\n",
    "if substring in string:\n",
    "    index = string.index(substring)\n",
    "    print(f\"The index of '{substring}' is: {index}\")\n",
    "else:\n",
    "    print(f\"'{substring}' not found in the string.\")"
   ]
  },
  {
   "cell_type": "code",
   "execution_count": 6,
   "id": "f14c5b92-e2e1-4981-a010-13a1502e918f",
   "metadata": {},
   "outputs": [
    {
     "name": "stdin",
     "output_type": "stream",
     "text": [
      "Enter a string:  my name is kohil\n",
      "Enter the regular expression to match:  ^name\n"
     ]
    },
    {
     "name": "stdout",
     "output_type": "stream",
     "text": [
      "No match found.\n"
     ]
    }
   ],
   "source": [
    "import re\n",
    "\n",
    "string = input(\"Enter a string: \")\n",
    "pattern = input(\"Enter the regular expression to match: \")\n",
    "\n",
    "match = re.match(pattern, string)\n",
    "\n",
    "if match:\n",
    "    print(\"Match found:\", match.group())\n",
    "else:\n",
    "    print(\"No match found.\")"
   ]
  },
  {
   "cell_type": "code",
   "execution_count": 7,
   "id": "e74a541f-590b-440e-b53f-6dc0d5881b00",
   "metadata": {},
   "outputs": [
    {
     "name": "stdin",
     "output_type": "stream",
     "text": [
      "Enter the first string:  deepika\n",
      "Enter the second string:  deepika\n"
     ]
    },
    {
     "name": "stdout",
     "output_type": "stream",
     "text": [
      "'deepika' is equal to 'deepika'\n"
     ]
    }
   ],
   "source": [
    "string1 = input(\"Enter the first string: \")\n",
    "string2 = input(\"Enter the second string: \")\n",
    "\n",
    "if string1 == string2:\n",
    "    print(f\"'{string1}' is equal to '{string2}'\")\n",
    "elif string1 < string2:\n",
    "    print(f\"'{string1}' is less than '{string2}'\")\n",
    "elif string1 > string2:\n",
    "    print(f\"'{string1}' is greater than '{string2}'\")\n"
   ]
  },
  {
   "cell_type": "code",
   "execution_count": 8,
   "id": "aaa7a57c-98b0-47de-b8b1-7979f373569f",
   "metadata": {},
   "outputs": [
    {
     "name": "stdin",
     "output_type": "stream",
     "text": [
      "Enter a string:  java plays a vital role\n",
      "Enter the prefix to check if string starts with:  java\n",
      "Enter the suffix to check if string ends with:  plays\n"
     ]
    },
    {
     "name": "stdout",
     "output_type": "stream",
     "text": [
      "The string starts with 'java'.\n",
      "The string does not end with 'plays'.\n"
     ]
    },
    {
     "name": "stdin",
     "output_type": "stream",
     "text": [
      "Enter another string to compare:  language\n"
     ]
    },
    {
     "name": "stdout",
     "output_type": "stream",
     "text": [
      "'java plays a vital role' is lexicographically less than 'language'.\n"
     ]
    }
   ],
   "source": [
    "string = input(\"Enter a string: \")\n",
    "prefix = input(\"Enter the prefix to check if string starts with: \")\n",
    "suffix = input(\"Enter the suffix to check if string ends with: \")\n",
    "\n",
    "if string.startswith(prefix):\n",
    "    print(f\"The string starts with '{prefix}'.\")\n",
    "else:\n",
    "    print(f\"The string does not start with '{prefix}'.\")\n",
    "\n",
    "if string.endswith(suffix):\n",
    "    print(f\"The string ends with '{suffix}'.\")\n",
    "else:\n",
    "    print(f\"The string does not end with '{suffix}'.\")\n",
    "\n",
    "string2 = input(\"Enter another string to compare: \")\n",
    "\n",
    "if string < string2:\n",
    "    print(f\"'{string}' is lexicographically less than '{string2}'.\")\n",
    "elif string == string2:\n",
    "    print(f\"'{string}' is equal to '{string2}'.\")\n",
    "else:\n",
    "    print(f\"'{string}' is lexicographically greater than '{string2}'.\")"
   ]
  },
  {
   "cell_type": "code",
   "execution_count": 9,
   "id": "f8231a4a-c300-484b-8735-4b0def9f010b",
   "metadata": {},
   "outputs": [
    {
     "name": "stdin",
     "output_type": "stream",
     "text": [
      " i am deepika from bhimavaram\n"
     ]
    },
    {
     "name": "stdout",
     "output_type": "stream",
     "text": [
      "'i am deepika from bhimavaram'\n"
     ]
    }
   ],
   "source": [
    "text =input()\n",
    "trimmed_text = text.strip()\n",
    "print(f\"'{trimmed_text}'\") "
   ]
  },
  {
   "cell_type": "code",
   "execution_count": 10,
   "id": "ce93c0a3-80d0-46b5-9aac-d8180e7de76c",
   "metadata": {},
   "outputs": [
    {
     "name": "stdin",
     "output_type": "stream",
     "text": [
      "Enter the string:  he is a very good  boy\n",
      "Enter the substring or character to replace:  good\n",
      "Enter the new substring or character to replace with:  bad\n"
     ]
    },
    {
     "name": "stdout",
     "output_type": "stream",
     "text": [
      "The updated string is: he is a very bad  boy\n"
     ]
    }
   ],
   "source": [
    "string = input(\"Enter the string: \")\n",
    "old_substring = input(\"Enter the substring or character to replace: \")\n",
    "new_substring = input(\"Enter the new substring or character to replace with: \")\n",
    "new_string = string.replace(old_substring, new_substring)\n",
    "print(\"The updated string is:\", new_string)"
   ]
  },
  {
   "cell_type": "code",
   "execution_count": 11,
   "id": "583d87bf-91ea-4fa8-a3fa-2d596615803b",
   "metadata": {},
   "outputs": [
    {
     "name": "stdin",
     "output_type": "stream",
     "text": [
      " welcome to bhimavaram\n"
     ]
    },
    {
     "name": "stdout",
     "output_type": "stream",
     "text": [
      "['welcome', 'to', 'bhimavaram']\n"
     ]
    }
   ],
   "source": [
    "text =input()\n",
    "result = text.split()\n",
    "print(result)"
   ]
  },
  {
   "cell_type": "code",
   "execution_count": 12,
   "id": "7eb83dc1-dcf2-40f1-85cd-422fffb0ca2b",
   "metadata": {},
   "outputs": [
    {
     "name": "stdin",
     "output_type": "stream",
     "text": [
      " 567\n"
     ]
    },
    {
     "name": "stdout",
     "output_type": "stream",
     "text": [
      "567\n",
      "<class 'str'>\n"
     ]
    }
   ],
   "source": [
    "num = int(input())\n",
    "str_num = f\"{num}\"\n",
    "print(str_num)\n",
    "print(type(str_num)) "
   ]
  },
  {
   "cell_type": "code",
   "execution_count": 13,
   "id": "235d8ab3-8714-42e6-91d1-cfa75745dff9",
   "metadata": {},
   "outputs": [
    {
     "name": "stdin",
     "output_type": "stream",
     "text": [
      " mahati\n"
     ]
    },
    {
     "name": "stdout",
     "output_type": "stream",
     "text": [
      "Original Text: mahati\n",
      "Swapped Case Text: MAHATI\n"
     ]
    }
   ],
   "source": [
    "text = input()\n",
    "swapped_text = text.swapcase()\n",
    "print(f\"Original Text: {text}\")\n",
    "print(f\"Swapped Case Text: {swapped_text}\")\n"
   ]
  },
  {
   "cell_type": "code",
   "execution_count": null,
   "id": "12461c85-2ae2-424e-8ee1-2a07185ae4c8",
   "metadata": {},
   "outputs": [],
   "source": []
  }
 ],
 "metadata": {
  "kernelspec": {
   "display_name": "Python 3 (ipykernel)",
   "language": "python",
   "name": "python3"
  },
  "language_info": {
   "codemirror_mode": {
    "name": "ipython",
    "version": 3
   },
   "file_extension": ".py",
   "mimetype": "text/x-python",
   "name": "python",
   "nbconvert_exporter": "python",
   "pygments_lexer": "ipython3",
   "version": "3.12.4"
  }
 },
 "nbformat": 4,
 "nbformat_minor": 5
}
